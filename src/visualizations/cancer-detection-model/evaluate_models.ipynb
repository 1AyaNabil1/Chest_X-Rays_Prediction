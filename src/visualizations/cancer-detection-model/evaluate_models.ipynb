{
 "cells": [
  {
   "cell_type": "code",
   "execution_count": 6,
   "metadata": {},
   "outputs": [],
   "source": [
    "%config Completer.use_jedi = False\n",
    "import numpy as np\n",
    "import pandas as pd\n",
    "import matplotlib.pyplot as plt\n",
    "import matplotlib.image as mpimg\n",
    "import cv2\n",
    "import random\n",
    "import os\n",
    "import imageio\n",
    "import plotly.graph_objects as go\n",
    "import plotly.express as px\n",
    "import plotly.figure_factory as ff\n",
    "from plotly.subplots import make_subplots\n",
    "from collections import Counter\n",
    "\n",
    "from sklearn.preprocessing import StandardScaler, OneHotEncoder\n",
    "from sklearn.model_selection import train_test_split\n",
    "from sklearn.neighbors import LocalOutlierFactor\n",
    "from sklearn.metrics import accuracy_score, recall_score, precision_score, classification_report, confusion_matrix\n",
    "from sklearn.model_selection import RandomizedSearchCV, cross_val_score, RepeatedStratifiedKFold\n",
    "\n",
    "import tensorflow as tf\n",
    "import keras\n",
    "from keras.models import Sequential\n",
    "from keras.layers import Dense, Dropout, Activation, Flatten\n",
    "from keras.layers import Conv2D, MaxPooling2D, GlobalAveragePooling2D, BatchNormalization\n",
    "from keras.applications import resnet\n",
    "from keras.applications.resnet import ResNet50\n",
    "from keras.preprocessing.image import ImageDataGenerator\n",
    "\n",
    "from tensorflow.keras.optimizers import Adam"
   ]
  },
  {
   "cell_type": "code",
   "execution_count": 7,
   "metadata": {},
   "outputs": [
    {
     "name": "stdout",
     "output_type": "stream",
     "text": [
      "Not running on CoLab\n"
     ]
    }
   ],
   "source": [
    "# If you are running from colab\n",
    "if 'google.colab' in str(get_ipython()):\n",
    "    from google.colab import drive\n",
    "    drive.mount('/content/drive')\n",
    "    print('Running on CoLab')\n",
    "    directory = r'/content/drive/Shareddrives/cancer-detection-model/MERGED The IQ-OTHNCCD lung cancer dataset/Test Data'\n",
    "else:\n",
    "    # If you want to run local\n",
    "    print('Not running on CoLab')\n",
    "    directory = r'../../data/cancer-detection-model/CT-Scan Images for testing'\n",
    "\n",
    "categories = ['Bengin cases', 'Malignant cases', 'Normal cases']"
   ]
  },
  {
   "cell_type": "code",
   "execution_count": 8,
   "metadata": {},
   "outputs": [],
   "source": [
    "# Set the random seed for reproducibility\n",
    "seed = 42\n",
    "tf.random.set_seed(seed)\n",
    "np.random.seed(seed)\n",
    "random.seed(seed)"
   ]
  },
  {
   "cell_type": "code",
   "execution_count": 9,
   "metadata": {},
   "outputs": [],
   "source": [
    "def get_test_generator(directory, image_height, image_width, batch_size):\n",
    "    '''Build generators for train and validatio\n",
    "        :directory: Location of the data\n",
    "        :image_height: image height\n",
    "        :image_width: image width\n",
    "        :batch_size: The batch size\n",
    "    '''\n",
    "\n",
    "    datagen = ImageDataGenerator(dtype='float32',\n",
    "        rescale=1.0 / 255.0)\n",
    "\n",
    "    test_generator = datagen.flow_from_directory(\n",
    "        directory,\n",
    "        target_size=(image_height, image_width),\n",
    "        batch_size=batch_size,\n",
    "        class_mode='categorical',  # 'categorical' for multi-class classification\n",
    "        shuffle=False,\n",
    "        classes={'Benign': 0, \n",
    "                 'Malignant': 1, \n",
    "                 'Normal': 2}\n",
    "    )\n",
    "\n",
    "    return test_generator"
   ]
  },
  {
   "cell_type": "code",
   "execution_count": 10,
   "metadata": {},
   "outputs": [
    {
     "name": "stdout",
     "output_type": "stream",
     "text": [
      "Found 364 images belonging to 3 classes.\n",
      "37/37 [==============================] - 13s 317ms/step - loss: 2.6652 - accuracy: 0.6044\n",
      "lung_cancer_detection_One.RESNET50V2 Test Loss: 2.6651716232299805, Test Accuracy: 0.6043956279754639\n",
      "Found 364 images belonging to 3 classes.\n",
      "46/46 [==============================] - 18s 369ms/step - loss: 2.2174 - accuracy: 0.6016\n",
      "lung_cancer_detection_One.SMOTE Test Loss: 2.217400312423706, Test Accuracy: 0.6016483306884766\n"
     ]
    }
   ],
   "source": [
    "models = {'lung_cancer_detection_One.RESNET50V2': \n",
    "          {'image_height': 224, 'image_width': 224, 'batch_size': 10},\n",
    "        'lung_cancer_detection_One.SMOTE': \n",
    "          {'image_height': 256, 'image_width': 256, 'batch_size': 8}}\n",
    "\n",
    "\n",
    "for model, value in models.items():\n",
    "    # To load the model architecture and weights in a new session:\n",
    "    loaded_model = tf.keras.models.load_model('lung_cancer_detection_One.RESNET50V2')\n",
    "\n",
    "    # Compile the loaded model\n",
    "    loaded_model.compile(optimizer=Adam(learning_rate=0.001), loss='categorical_crossentropy', metrics=['accuracy'])\n",
    "\n",
    "    test_generator = get_test_generator(directory, value['image_width'], value['image_height'], value['batch_size'])\n",
    "    test_loss, test_accuracy = loaded_model.evaluate(test_generator)\n",
    "    print(f\"{model} Test Loss: {test_loss}, Test Accuracy: {test_accuracy}\")"
   ]
  },
  {
   "cell_type": "code",
   "execution_count": null,
   "metadata": {},
   "outputs": [],
   "source": []
  }
 ],
 "metadata": {
  "kernelspec": {
   "display_name": "base",
   "language": "python",
   "name": "python3"
  },
  "language_info": {
   "codemirror_mode": {
    "name": "ipython",
    "version": 3
   },
   "file_extension": ".py",
   "mimetype": "text/x-python",
   "name": "python",
   "nbconvert_exporter": "python",
   "pygments_lexer": "ipython3",
   "version": "3.9.16"
  },
  "orig_nbformat": 4
 },
 "nbformat": 4,
 "nbformat_minor": 2
}
