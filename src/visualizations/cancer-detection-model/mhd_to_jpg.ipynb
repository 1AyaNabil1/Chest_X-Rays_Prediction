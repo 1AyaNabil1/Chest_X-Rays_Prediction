{
 "cells": [
  {
   "cell_type": "code",
   "execution_count": 133,
   "id": "98a6125f",
   "metadata": {},
   "outputs": [],
   "source": [
    "import os\n",
    "import numpy as np\n",
    "import pandas as pd\n",
    "import os\n",
    "\n",
    "from PIL import Image\n",
    "from imageio import imread\n",
    "import cv2 as cv\n",
    "import SimpleITK as sitk\n",
    "%matplotlib inline"
   ]
  },
  {
   "cell_type": "code",
   "execution_count": 134,
   "id": "acb63d42",
   "metadata": {},
   "outputs": [],
   "source": [
    "# Capture directory location for each file\n",
    "file_dict = {}\n",
    "\n",
    "for dirname, _, filenames in os.walk('../../data/luna16-raw'):\n",
    "    for filename in filenames:\n",
    "        if (filename.endswith('.mhd')):\n",
    "            file_dict[filename] = dirname\n"
   ]
  },
  {
   "cell_type": "code",
   "execution_count": 135,
   "id": "5cd57dfb",
   "metadata": {},
   "outputs": [],
   "source": [
    "candidates_df = pd.read_csv('../../data/luna16-raw/candidates_V2/candidates_V2.csv')\n",
    "\n",
    "# Read in the filename prefixes that have no data\n",
    "missing_df = pd.read_csv('../../data/luna16-raw/missing.txt', header=None)"
   ]
  },
  {
   "cell_type": "code",
   "execution_count": 136,
   "id": "b517548a",
   "metadata": {},
   "outputs": [
    {
     "data": {
      "text/html": [
       "<div>\n",
       "<style scoped>\n",
       "    .dataframe tbody tr th:only-of-type {\n",
       "        vertical-align: middle;\n",
       "    }\n",
       "\n",
       "    .dataframe tbody tr th {\n",
       "        vertical-align: top;\n",
       "    }\n",
       "\n",
       "    .dataframe thead th {\n",
       "        text-align: right;\n",
       "    }\n",
       "</style>\n",
       "<table border=\"1\" class=\"dataframe\">\n",
       "  <thead>\n",
       "    <tr style=\"text-align: right;\">\n",
       "      <th></th>\n",
       "      <th>seriesuid</th>\n",
       "      <th>coordX</th>\n",
       "      <th>coordY</th>\n",
       "      <th>coordZ</th>\n",
       "      <th>class</th>\n",
       "    </tr>\n",
       "  </thead>\n",
       "  <tbody>\n",
       "    <tr>\n",
       "      <th>0</th>\n",
       "      <td>1.3.6.1.4.1.14519.5.2.1.6279.6001.100225287222...</td>\n",
       "      <td>68.420000</td>\n",
       "      <td>-74.480000</td>\n",
       "      <td>-288.700000</td>\n",
       "      <td>0</td>\n",
       "    </tr>\n",
       "    <tr>\n",
       "      <th>1</th>\n",
       "      <td>1.3.6.1.4.1.14519.5.2.1.6279.6001.100225287222...</td>\n",
       "      <td>-95.209361</td>\n",
       "      <td>-91.809406</td>\n",
       "      <td>-377.426350</td>\n",
       "      <td>0</td>\n",
       "    </tr>\n",
       "    <tr>\n",
       "      <th>2</th>\n",
       "      <td>1.3.6.1.4.1.14519.5.2.1.6279.6001.100225287222...</td>\n",
       "      <td>-24.766755</td>\n",
       "      <td>-120.379294</td>\n",
       "      <td>-273.361539</td>\n",
       "      <td>0</td>\n",
       "    </tr>\n",
       "    <tr>\n",
       "      <th>3</th>\n",
       "      <td>1.3.6.1.4.1.14519.5.2.1.6279.6001.100225287222...</td>\n",
       "      <td>-63.080000</td>\n",
       "      <td>-65.740000</td>\n",
       "      <td>-344.240000</td>\n",
       "      <td>0</td>\n",
       "    </tr>\n",
       "    <tr>\n",
       "      <th>4</th>\n",
       "      <td>1.3.6.1.4.1.14519.5.2.1.6279.6001.100225287222...</td>\n",
       "      <td>52.946688</td>\n",
       "      <td>-92.688873</td>\n",
       "      <td>-241.067872</td>\n",
       "      <td>0</td>\n",
       "    </tr>\n",
       "  </tbody>\n",
       "</table>\n",
       "</div>"
      ],
      "text/plain": [
       "                                           seriesuid     coordX      coordY  \\\n",
       "0  1.3.6.1.4.1.14519.5.2.1.6279.6001.100225287222...  68.420000  -74.480000   \n",
       "1  1.3.6.1.4.1.14519.5.2.1.6279.6001.100225287222... -95.209361  -91.809406   \n",
       "2  1.3.6.1.4.1.14519.5.2.1.6279.6001.100225287222... -24.766755 -120.379294   \n",
       "3  1.3.6.1.4.1.14519.5.2.1.6279.6001.100225287222... -63.080000  -65.740000   \n",
       "4  1.3.6.1.4.1.14519.5.2.1.6279.6001.100225287222...  52.946688  -92.688873   \n",
       "\n",
       "       coordZ  class  \n",
       "0 -288.700000      0  \n",
       "1 -377.426350      0  \n",
       "2 -273.361539      0  \n",
       "3 -344.240000      0  \n",
       "4 -241.067872      0  "
      ]
     },
     "execution_count": 136,
     "metadata": {},
     "output_type": "execute_result"
    }
   ],
   "source": [
    "candidates_df.head()"
   ]
  },
  {
   "cell_type": "code",
   "execution_count": 137,
   "id": "5fb3cb31",
   "metadata": {},
   "outputs": [
    {
     "data": {
      "text/plain": [
       "(754975, 5)"
      ]
     },
     "execution_count": 137,
     "metadata": {},
     "output_type": "execute_result"
    }
   ],
   "source": [
    "candidates_df.shape"
   ]
  },
  {
   "cell_type": "code",
   "execution_count": 138,
   "id": "8173135f",
   "metadata": {},
   "outputs": [],
   "source": [
    "positives_index = candidates_df[candidates_df['class']==1].index\n",
    "negatives_index = candidates_df[candidates_df['class']==0].index\n",
    "\n",
    "# Select a random sample of 5 times the positives list since it is quite imbalanced\n",
    "np.random.seed(42)\n",
    "negatives_index = np.random.choice(negatives_index, len(positives_index)*5, replace = False)\n",
    "\n",
    "positive_df = candidates_df.iloc[positives_index]\n",
    "negative_df = candidates_df.iloc[negatives_index]\n",
    "\n",
    "# Filter rows to only those where we have data\n",
    "positive_df = positive_df[~positive_df['seriesuid'].isin(missing_df[0])]\n",
    "negative_df = negative_df[~negative_df['seriesuid'].isin(missing_df[0])]"
   ]
  },
  {
   "cell_type": "code",
   "execution_count": 139,
   "id": "e74b7d75",
   "metadata": {},
   "outputs": [
    {
     "data": {
      "text/plain": [
       "(3921, 5)"
      ]
     },
     "execution_count": 139,
     "metadata": {},
     "output_type": "execute_result"
    }
   ],
   "source": [
    "negative_df.shape"
   ]
  },
  {
   "cell_type": "code",
   "execution_count": 140,
   "id": "9ab9a065",
   "metadata": {},
   "outputs": [
    {
     "data": {
      "text/plain": [
       "(817, 5)"
      ]
     },
     "execution_count": 140,
     "metadata": {},
     "output_type": "execute_result"
    }
   ],
   "source": [
    "positive_df.shape"
   ]
  },
  {
   "cell_type": "code",
   "execution_count": 141,
   "id": "ca1f3c4f",
   "metadata": {},
   "outputs": [],
   "source": [
    "\n",
    "def generate_jpg_images(df, output_dir):\n",
    "    for index, row in df.iterrows():\n",
    "        mhd_filename = row['seriesuid'] + '.mhd'\n",
    "        mhd_path = os.path.join(file_dict[mhd_filename], mhd_filename)\n",
    "\n",
    "        # Load .mhd file using SimpleITK\n",
    "        ct_scan = sitk.ReadImage(mhd_path)\n",
    "        origin = ct_scan.GetOrigin()\n",
    "        resolution = ct_scan.GetSpacing()\n",
    "        x, y, z = int(row['coordX']), int(row['coordY']), int(row['coordZ'])\n",
    "\n",
    "        center_xyz = (x, y, z)\n",
    "        origin_xyz_np = np.array(origin)\n",
    "        voxel_size_xyz_np = np.array(resolution)\n",
    "        direction_matrix = np.array(ct_scan.GetDirection()).reshape(3, 3)\n",
    "        # Convert the coordinates of the center of the candidate\n",
    "        # from the patient coordinate system to column, row, index\n",
    "        cri = ((center_xyz - origin_xyz_np) @ np.linalg.inv(direction_matrix)) / voxel_size_xyz_np\n",
    "\n",
    "        # Since we'll be using column, row and index values to index into arrays,\n",
    "        # we round them to the nearest integer.\n",
    "        cri = np.round(cri)\n",
    "\n",
    "        # Convert CT scan to NumPy array\n",
    "        ct_array = np.array(sitk.GetArrayFromImage(ct_scan), dtype=np.float32)\n",
    "        ct_array.clip(-1000, 1000, ct_array)\n",
    "\n",
    "        # Extract the specific slice corresponding to the given coordinates\n",
    "        selected_slice = ct_array[int(cri[2]), :, :]\n",
    "\n",
    "        # Normalize pixel values to [0, 255] for JPEG conversion\n",
    "        selected_slice_normalized = ((selected_slice - np.min(selected_slice)) /\n",
    "                                    (np.max(selected_slice) - np.min(selected_slice))) * 255\n",
    "        selected_slice_normalized = selected_slice_normalized.astype(np.uint8)\n",
    "\n",
    "        # Save the selected slice as JPEG\n",
    "        output_path = os.path.join(output_dir, \"image_{}.jpg\".format(index))\n",
    "        image = Image.fromarray(selected_slice_normalized, 'L')  # 'L' mode for grayscale\n",
    "        image.save(output_path)"
   ]
  },
  {
   "cell_type": "code",
   "execution_count": 143,
   "id": "03f6b8af",
   "metadata": {},
   "outputs": [],
   "source": [
    "# Output a random sample of normal images\n",
    "generate_jpg_images(negative_df, '../../data/cancer-detection-model/luna16-jpg for testing/Normal')\n",
    "\n",
    "# Output the malignant images\n",
    "generate_jpg_images(positive_df, '../../data/cancer-detection-model/luna16-jpg for testing/Malignant')"
   ]
  },
  {
   "cell_type": "code",
   "execution_count": 144,
   "id": "4c30211c",
   "metadata": {},
   "outputs": [],
   "source": [
    "positive_df.to_csv('../../data/cancer-detection-model/luna16-jpg for testing/positives.csv')"
   ]
  },
  {
   "cell_type": "code",
   "execution_count": 145,
   "id": "203d00e4",
   "metadata": {},
   "outputs": [],
   "source": [
    "negative_df.to_csv('../../data/cancer-detection-model/luna16-jpg for testing/negatives.csv')"
   ]
  }
 ],
 "metadata": {
  "kernelspec": {
   "display_name": "Python 3 (ipykernel)",
   "language": "python",
   "name": "python3"
  },
  "language_info": {
   "codemirror_mode": {
    "name": "ipython",
    "version": 3
   },
   "file_extension": ".py",
   "mimetype": "text/x-python",
   "name": "python",
   "nbconvert_exporter": "python",
   "pygments_lexer": "ipython3",
   "version": "3.9.16"
  }
 },
 "nbformat": 4,
 "nbformat_minor": 5
}
