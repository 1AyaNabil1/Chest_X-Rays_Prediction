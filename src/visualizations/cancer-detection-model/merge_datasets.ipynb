{
 "cells": [
  {
   "cell_type": "code",
   "execution_count": 69,
   "id": "10fd8f86",
   "metadata": {},
   "outputs": [],
   "source": [
    "import shutil\n",
    "import os"
   ]
  },
  {
   "cell_type": "code",
   "execution_count": 70,
   "id": "8f6cc55d",
   "metadata": {},
   "outputs": [],
   "source": [
    "def count_files(directory, directory_key):\n",
    "    file_count = sum([len(files) for r, d, files in os.walk(directory)])\n",
    "    print('Number of files in {} directory = {}'.format(directory_key, file_count))\n",
    "    return file_count\n",
    "\n",
    "def copy_normal_files(src, dest, chest_ctscan_images_dataset_src):\n",
    "    dispositions = ['test', 'train', 'valid']\n",
    "    dest_target = os.path.join(dest, 'Normal cases')\n",
    "    chest_ctscan_count = count_files(chest_ctscan_images_dataset_src, 'chest_ctscan')\n",
    "    \n",
    "    print('Copying over normal disposition files')\n",
    "    normal_index = 5000\n",
    "    for disposition in dispositions:\n",
    "        chest_ctscan_normal_file_path = os.path.join(chest_ctscan_images_dataset_src, disposition)\n",
    "        normal_file_path = os.path.join(chest_ctscan_normal_file_path, 'normal')\n",
    "            \n",
    "        for file in os.listdir(normal_file_path):\n",
    "            dest_filename = os.path.join(dest_target,'Normal case ({}).png'.format(normal_index))\n",
    "            normal_index = normal_index + 1\n",
    "            shutil.copy(os.path.join(normal_file_path, file), dest_filename)\n",
    "                \n",
    "    dest_file_count = count_files(dest, 'destination')\n",
    "    \n",
    "def copy_malignant_files(src, dest, chest_ctscan_images_dataset_src):\n",
    "    # Unfortunatly the subdirectory names are not consistent for test, train and valid...\n",
    "    dispositions = [os.path.join('test', 'adenocarcinoma'), \n",
    "                    os.path.join('test', 'large.cell.carcinoma'),\n",
    "                    os.path.join('test', 'squamous.cell.carcinoma'),\n",
    "                    os.path.join('train', 'adenocarcinoma_left.lower.lobe_T2_N0_M0_Ib'),\n",
    "                    os.path.join('train', 'large.cell.carcinoma_left.hilum_T2_N2_M0_IIIa'),\n",
    "                    os.path.join('train', 'squamous.cell.carcinoma_left.hilum_T1_N2_M0_IIIa'),\n",
    "                    os.path.join('valid', 'adenocarcinoma_left.lower.lobe_T2_N0_M0_Ib'),\n",
    "                    os.path.join('valid', 'large.cell.carcinoma_left.hilum_T2_N2_M0_IIIa'),\n",
    "                    os.path.join('valid', 'squamous.cell.carcinoma_left.hilum_T1_N2_M0_IIIa')]\n",
    "    dest_target = os.path.join(dest, 'Malignant cases')\n",
    "    print('Copying over malignant disposition files')\n",
    "    normal_index = 5000\n",
    "    for disposition in dispositions:\n",
    "        malignant_file_path = os.path.join(chest_ctscan_images_dataset_src, disposition)\n",
    "            \n",
    "        for file in os.listdir(malignant_file_path):\n",
    "            dest_filename = os.path.join(dest_target,'Malignant case ({}).png'.format(normal_index))\n",
    "            normal_index = normal_index + 1\n",
    "            shutil.copy(os.path.join(malignant_file_path, file), dest_filename)\n",
    "                \n",
    "    dest_file_count = count_files(dest, 'destination')\n",
    "    "
   ]
  },
  {
   "cell_type": "code",
   "execution_count": 71,
   "id": "1bae68fd",
   "metadata": {
    "scrolled": false
   },
   "outputs": [
    {
     "name": "stdout",
     "output_type": "stream",
     "text": [
      "Number of files in source directory = 1098\n",
      "Number of files in destination directory = 1098\n",
      "Copy succeeded...\n",
      "Number of files in chest_ctscan directory = 1000\n",
      "Copying over normal disposition files\n",
      "Number of files in destination directory = 1313\n",
      "Copying over malignant disposition files\n",
      "Number of files in destination directory = 2098\n"
     ]
    }
   ],
   "source": [
    "# Source path \n",
    "src = r'../../data/cancer-detection-model/The IQ-OTHNCCD lung cancer dataset'\n",
    "    \n",
    "# Destination path \n",
    "dest = r'../../data/cancer-detection-model/MERGED The IQ-OTHNCCD lung cancer dataset'\n",
    " \n",
    "# Directory of images to be copied into MERGED directory\n",
    "chest_ctscan_images_dataset_src =r'../../data/cancer-detection-model/Chest CT-Scan images Dataset'\n",
    "    \n",
    "if (os.path.exists(dest)):\n",
    "    print('ERROR Output directory {} already exists and should be deleted'.format(dest))\n",
    "else:\n",
    "    src_file_count = count_files(src, 'source')\n",
    "    \n",
    "    # Copy the content of \n",
    "    # source to destination \n",
    "    destination = shutil.copytree(src, dest) \n",
    "\n",
    "    dest_file_count = count_files(dest, 'destination')\n",
    "    \n",
    "    if (src_file_count != dest_file_count):\n",
    "        print(\"Error file count from source and destination differs\")\n",
    "    else:\n",
    "        print('Copy succeeded...')\n",
    "        \n",
    "        # Copy normal files to MERGED/Normal Cases directory\n",
    "        copy_normal_files(src, dest, chest_ctscan_images_dataset_src)\n",
    "        \n",
    "        # Copy mailigannt files to MERGED/Malignant case directory\n",
    "        copy_malignant_files(src, dest, chest_ctscan_images_dataset_src)"
   ]
  },
  {
   "cell_type": "code",
   "execution_count": null,
   "id": "1ecc1c6b",
   "metadata": {},
   "outputs": [],
   "source": []
  }
 ],
 "metadata": {
  "kernelspec": {
   "display_name": "Python 3 (ipykernel)",
   "language": "python",
   "name": "python3"
  },
  "language_info": {
   "codemirror_mode": {
    "name": "ipython",
    "version": 3
   },
   "file_extension": ".py",
   "mimetype": "text/x-python",
   "name": "python",
   "nbconvert_exporter": "python",
   "pygments_lexer": "ipython3",
   "version": "3.9.16"
  }
 },
 "nbformat": 4,
 "nbformat_minor": 5
}
